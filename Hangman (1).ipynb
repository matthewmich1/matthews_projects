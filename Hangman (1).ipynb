{
  "nbformat": 4,
  "nbformat_minor": 0,
  "metadata": {
    "colab": {
      "provenance": []
    },
    "kernelspec": {
      "name": "python3",
      "display_name": "Python 3"
    },
    "language_info": {
      "name": "python"
    }
  },
  "cells": [
    {
      "cell_type": "code",
      "metadata": {
        "colab": {
          "base_uri": "https://localhost:8080/"
        },
        "id": "mOKE7gO96xJE",
        "outputId": "f45bfdb3-13e1-4f17-b51c-2274b395324a"
      },
      "source": [
        "print('-----------')\n",
        "print('|          |')\n",
        "print('|         ----')\n",
        "print('|         |. .|')\n",
        "print('|         | - |')\n",
        "print('|         -----')\n",
        "print('|           |')\n",
        "print('|       ____|____')\n",
        "print('|           |')\n",
        "print('|           |')\n",
        "print('|          | |')\n",
        "print('|          | |')"
      ],
      "execution_count": null,
      "outputs": [
        {
          "output_type": "stream",
          "name": "stdout",
          "text": [
            "-----------\n",
            "|          |\n",
            "|         ----\n",
            "|         |. .|\n",
            "|         | - |\n",
            "|         -----\n",
            "|           |\n",
            "|       ____|____\n",
            "|           |\n",
            "|           |\n",
            "|          | |\n",
            "|          | |\n"
          ]
        }
      ]
    },
    {
      "cell_type": "code",
      "metadata": {
        "id": "l5Zf8bzbCpBm"
      },
      "source": [
        "stage1 = '|\\n' * 11\n",
        "stage2 = '-' * 11 + '\\n' + '|\\n' * 11\n",
        "stage3 = '-' * 11 + '\\n' + '|          |' + '\\n' + '|\\n' * 10\n",
        "stage4 = '-' * 11 + '\\n' + '|          |' + '\\n' + '|\\n' * 10\n",
        "stage5 = '-' * 11 + '\\n|          |' + '\\n|         ----' + '\\n|         |   |' * 2 + '\\n|         ----' + '\\n' + '|\\n' * 6\n",
        "stage6 = '-' * 11 + '\\n|          |' + '\\n|         ----' + '\\n|         |   |' * 2 + '\\n|         ----' + '\\n|           |'*4 + '\\n' + '|\\n' * 2\n",
        "stage7 = '-' * 11 + '\\n|          |' + '\\n|         ----' + '\\n|         |   |' * 2 + '\\n|         ----' + '\\n|           |'*4 + '\\n|          | |'*2 + '\\n'\n",
        "stage8 = '-' * 11 + '\\n|          |' + '\\n|         ----' + '\\n|         |   |' * 2 + '\\n|         ----' + '\\n|           |' + '\\n|       ____|____' + '\\n|           |'*2 + '\\n|          | |'*2 + '\\n'\n",
        "stage9 = '-' * 11 + '\\n|          |' + '\\n|         ----' + '\\n|         |. .|' + '\\n|         |   |' + '\\n|         ----' + '\\n|           |' + '\\n|       ____|____' + '\\n|           |'*2 + '\\n|          | |'*2 + '\\n'\n",
        "stage10 = '-' * 11 + '\\n|          |' + '\\n|         ----' + '\\n|         |. .|' + '\\n|         | - |' + '\\n|         ----' + '\\n|           |' + '\\n|       ____|____' + '\\n|           |'*2 + '\\n|          | |'*2 + '\\n'\n",
        "\n",
        "hangman = [stage1, stage2, stage3, stage4, stage5, stage6, stage7, stage8,stage9, stage10]\n"
      ],
      "execution_count": null,
      "outputs": []
    },
    {
      "cell_type": "code",
      "metadata": {
        "id": "XWH-yRXDovqK",
        "colab": {
          "base_uri": "https://localhost:8080/"
        },
        "outputId": "f68060a8-3d29-4597-d287-a18884423330"
      },
      "source": [
        "from IPython.display import clear_output\n",
        "import random\n",
        "\n",
        "a = True\n",
        "words_lst = []\n",
        "while a == True:\n",
        "  clear_output()\n",
        "  word = input('Enter word to add to list: ')\n",
        "  words_lst.append(word)\n",
        "\n",
        "  stop = int(input('0 to stop, 1 to continue adding words: '))\n",
        "  if stop == 0:\n",
        "    a = False\n",
        "\n",
        "\n",
        "chosen_word = random.choice(words_lst)\n",
        "\n",
        "word_hidden = ['-' for i in range(len(chosen_word))]\n",
        "print(word_hidden)\n",
        "\n",
        "stage_pos = 0\n",
        "guesses = 1\n",
        "win = False\n",
        "while win == False:\n",
        "  #clear_output()\n",
        "  letter = input('Enter letter/word: ')\n",
        "\n",
        "  if letter == chosen_word:\n",
        "    print('WEll DONE YOU GUESSED THE CORRECT WORD!')\n",
        "    win = True\n",
        "\n",
        "  if letter in chosen_word and len(letter) == 1:\n",
        "    print(letter,'is in the word.')\n",
        "    letter_idx = chosen_word.index(letter)\n",
        "    word_hidden[letter_idx] = letter\n",
        "    print(word_hidden)\n",
        "\n",
        "  if letter not in chosen_word:\n",
        "    print('INCORRECT LETTER/WORD.')\n",
        "    print(hangman[stage_pos])\n",
        "    stage_pos += 1\n",
        "\n",
        "  print(\"You've made\",guesses,\"guess(es).\" )\n",
        "  guesses += 1"
      ],
      "execution_count": null,
      "outputs": [
        {
          "output_type": "stream",
          "name": "stdout",
          "text": [
            "Enter word to add to list: player\n",
            "0 to stop, 1 to continue adding words: 0\n",
            "['-', '-', '-', '-', '-', '-', '-']\n",
            "Enter letter/word: s\n",
            "s is in the word.\n",
            "['s', '-', '-', '-', '-', '-', '-']\n",
            "You've made 1 guess(es).\n",
            "Enter letter/word: i\n",
            "i is in the word.\n",
            "['s', 'i', '-', '-', '-', '-', '-']\n",
            "You've made 2 guess(es).\n",
            "Enter letter/word: e\n",
            "e is in the word.\n",
            "['s', 'i', '-', '-', 'e', '-', '-']\n",
            "You've made 3 guess(es).\n",
            "Enter letter/word: e\n",
            "e is in the word.\n",
            "['s', 'i', '-', '-', 'e', '-', '-']\n",
            "You've made 4 guess(es).\n",
            "Enter letter/word: singere\n",
            "WEll DONE YOU GUESSED THE CORRECT WORD!\n",
            "You've made 5 guess(es).\n"
          ]
        }
      ]
    },
    {
      "cell_type": "code",
      "source": [],
      "metadata": {
        "id": "JX7XAf5y6nfE"
      },
      "execution_count": null,
      "outputs": []
    }
  ]
}