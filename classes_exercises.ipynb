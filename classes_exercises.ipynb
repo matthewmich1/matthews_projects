{
  "nbformat": 4,
  "nbformat_minor": 0,
  "metadata": {
    "colab": {
      "provenance": []
    },
    "kernelspec": {
      "name": "python3",
      "display_name": "Python 3"
    },
    "language_info": {
      "name": "python"
    }
  },
  "cells": [
    {
      "cell_type": "code",
      "metadata": {
        "id": "ITbMx4GbGVMN"
      },
      "source": [
        "class Student:\n",
        "\n",
        "  school = 'Cardinal Pole'\n",
        "\n",
        "  def __init__(self,name,age,gender):\n",
        "    self.name = name\n",
        "    self.age = age\n",
        "    self.gender = gender\n",
        "\n",
        "  def fav_subject(self):\n",
        "    sub = input('Enter your favourite subject')\n",
        "    print(\"{}'s favourite subject is {}.\".format(self.name,sub))\n",
        "\n",
        "s1 = Student('Ben',16,'Male')\n",
        "s2 = Student('Keira',15,'Female')"
      ],
      "execution_count": null,
      "outputs": []
    },
    {
      "cell_type": "code",
      "metadata": {
        "id": "jkhOKOymWeiu",
        "colab": {
          "base_uri": "https://localhost:8080/"
        },
        "outputId": "0ad3c5a9-b04e-4126-b2a9-ca374ad49cbe"
      },
      "source": [
        "print(s1)\n",
        "print(s2)"
      ],
      "execution_count": null,
      "outputs": [
        {
          "output_type": "stream",
          "name": "stdout",
          "text": [
            "<__main__.Student object at 0x7e9e6d426980>\n",
            "<__main__.Student object at 0x7e9e6d4261a0>\n"
          ]
        }
      ]
    },
    {
      "cell_type": "code",
      "metadata": {
        "id": "vtLImOiJXUWa",
        "colab": {
          "base_uri": "https://localhost:8080/",
          "height": 35
        },
        "outputId": "b36a6e10-575a-4466-b57e-379d72690444"
      },
      "source": [
        "Student.school"
      ],
      "execution_count": null,
      "outputs": [
        {
          "output_type": "execute_result",
          "data": {
            "text/plain": [
              "'Cardinal Pole'"
            ],
            "application/vnd.google.colaboratory.intrinsic+json": {
              "type": "string"
            }
          },
          "metadata": {},
          "execution_count": 3
        }
      ]
    },
    {
      "cell_type": "code",
      "metadata": {
        "colab": {
          "base_uri": "https://localhost:8080/"
        },
        "id": "LqgaLFgFcfBy",
        "outputId": "5502e623-2081-4a07-f1b7-5527d7fa250d"
      },
      "source": [
        "s1.fav_subject()"
      ],
      "execution_count": null,
      "outputs": [
        {
          "output_type": "stream",
          "name": "stdout",
          "text": [
            "Enter your favourite subjectMaths\n",
            "Ben's favourite subject is Maths.\n"
          ]
        }
      ]
    },
    {
      "cell_type": "code",
      "metadata": {
        "id": "ci3DoC7Uci7B"
      },
      "source": [
        "class Circle:\n",
        "\n",
        "  pi = 3.142\n",
        "  angle = 58\n",
        "\n",
        "  def __init__(self,radius = 6):\n",
        "    self.radius = radius\n",
        "\n",
        "  def area(self):\n",
        "    return (self.radius ** 2) * Circle.pi\n",
        "\n",
        "  def sector_area(self):\n",
        "    return (Circle.angle/360) * (self.radius ** 2) * Circle.pi"
      ],
      "execution_count": null,
      "outputs": []
    },
    {
      "cell_type": "code",
      "metadata": {
        "id": "LVHM2gAjpHfP"
      },
      "source": [
        "my_circle = Circle()"
      ],
      "execution_count": null,
      "outputs": []
    },
    {
      "cell_type": "code",
      "metadata": {
        "colab": {
          "base_uri": "https://localhost:8080/"
        },
        "id": "uEZSD_RvpPYa",
        "outputId": "0a688f4f-e6cb-49ae-9185-c009665f716a"
      },
      "source": [
        "my_circle.area()"
      ],
      "execution_count": null,
      "outputs": [
        {
          "output_type": "execute_result",
          "data": {
            "text/plain": [
              "113.112"
            ]
          },
          "metadata": {},
          "execution_count": 7
        }
      ]
    },
    {
      "cell_type": "code",
      "metadata": {
        "id": "0OlbmkXtpp85",
        "colab": {
          "base_uri": "https://localhost:8080/"
        },
        "outputId": "7815f3fd-227e-4de3-a1ed-8062fa5472c3"
      },
      "source": [
        "class Employee:\n",
        "\n",
        "  pay = 10\n",
        "  hours = 8\n",
        "\n",
        "  def __init__(self,fname = 'Matthew',lname = 'Michael',gender = 'male'):\n",
        "    self.fname = fname\n",
        "    self.lname = lname\n",
        "    self.gender = gender\n",
        "\n",
        "  def annual_sal(self):\n",
        "    return Employee.pay * Employee.hours * 7 * 52\n",
        "\n",
        "  def email(self):\n",
        "    return '{}.{}@gmail.com'.format(self.fname,self.lname)\n",
        "\n",
        "#emp1 = Employee('Matthew','Michael','male')\n",
        "#emp2 = Employee('Nathaniel','Michael','male')\n",
        "\n",
        "#print(emp1.email)\n",
        "#print(emp2.email)\n",
        "\n",
        "my_emp = Employee()\n",
        "my_emp.annual_sal()"
      ],
      "execution_count": null,
      "outputs": [
        {
          "output_type": "execute_result",
          "data": {
            "text/plain": [
              "29120"
            ]
          },
          "metadata": {},
          "execution_count": 8
        }
      ]
    },
    {
      "cell_type": "code",
      "metadata": {
        "id": "Sa4Lk-r_O8rU"
      },
      "source": [
        "class Athletes:\n",
        "\n",
        "  def personal_info(self):\n",
        "    print('Name: ' + self.name)\n",
        "    print(self.height,self.weight,p1.gender)"
      ],
      "execution_count": null,
      "outputs": []
    },
    {
      "cell_type": "code",
      "metadata": {
        "id": "dp403CL47qKB"
      },
      "source": [
        "p1 = Athletes()\n",
        "p1.name = 'Matthew'\n",
        "p1.height = 180\n",
        "p1.weight = 68\n",
        "p1.gender = 'male'\n"
      ],
      "execution_count": null,
      "outputs": []
    },
    {
      "cell_type": "code",
      "metadata": {
        "colab": {
          "base_uri": "https://localhost:8080/"
        },
        "id": "lhZyjpS777Xf",
        "outputId": "e38614f8-dddd-4b8b-850c-1dbb6a267359"
      },
      "source": [
        "p1.personal_info()"
      ],
      "execution_count": null,
      "outputs": [
        {
          "output_type": "stream",
          "name": "stdout",
          "text": [
            "Name: Matthew\n",
            "180 68 male\n"
          ]
        }
      ]
    },
    {
      "cell_type": "code",
      "metadata": {
        "id": "f4533ZWo7_2P"
      },
      "source": [
        "class pencilCase:\n",
        "\n",
        "  def __init__(self):\n",
        "    print('Stationary.')\n",
        "\n",
        "  def measure(self):\n",
        "    print('Ruler\\nProtractor')\n",
        "\n",
        "  def calc(self):\n",
        "    print('Calculator')\n",
        "\n",
        "  def pens(self):\n",
        "    print('Black pen\\nBlue pen\\nRed pen\\nGreen pen')"
      ],
      "execution_count": null,
      "outputs": []
    },
    {
      "cell_type": "code",
      "metadata": {
        "id": "eUYSyNJhzCDJ"
      },
      "source": [
        "class subjects(pencilCase):\n",
        "  def __init__(self):\n",
        "    pencilCase.__init__(self)\n",
        "    print('Stationary needed for subjects.')\n",
        "\n",
        "  def maths(self):\n",
        "    print('Equipment needed for Maths:')\n",
        "    pencilCase.pens(self)\n",
        "    pencilCase.calc(self)\n",
        "    pencilCase.measure(self)"
      ],
      "execution_count": null,
      "outputs": []
    },
    {
      "cell_type": "code",
      "metadata": {
        "colab": {
          "base_uri": "https://localhost:8080/"
        },
        "id": "OLE0jfg206Mf",
        "outputId": "123ef241-7b2e-44df-fb94-f9f1cdbd2441"
      },
      "source": [
        "mySubs = subjects()"
      ],
      "execution_count": null,
      "outputs": [
        {
          "output_type": "stream",
          "name": "stdout",
          "text": [
            "Stationary.\n",
            "Stationary needed for subjects.\n"
          ]
        }
      ]
    },
    {
      "cell_type": "code",
      "metadata": {
        "colab": {
          "base_uri": "https://localhost:8080/"
        },
        "id": "J6QeJ2Az0_ZM",
        "outputId": "54f97edd-b88a-46f9-c9ef-f22cc7abc653"
      },
      "source": [
        "mySubs.maths()"
      ],
      "execution_count": null,
      "outputs": [
        {
          "output_type": "stream",
          "name": "stdout",
          "text": [
            "Equipment needed for Maths:\n",
            "Black pen\n",
            "Blue pen\n",
            "Red pen\n",
            "Green pen\n",
            "Calculator\n",
            "Ruler\n",
            "Protractor\n"
          ]
        }
      ]
    },
    {
      "cell_type": "code",
      "metadata": {
        "id": "_Jr2Chx41ZSU",
        "colab": {
          "base_uri": "https://localhost:8080/"
        },
        "outputId": "a26da103-b47f-47e5-e1b8-aa028d1fe343"
      },
      "source": [
        "dests_dict = {'Kings Cross': 4,'Westminster':6, 'Oxford Street': 5.5, 'Wembley':8}\n",
        "class Locations:\n",
        "\n",
        "  def __init__(self,dests,transport_types,user_dest,user_transMode):\n",
        "    self.dests = dests\n",
        "    self.transport_types = transport_types\n",
        "    self.user_dest = user_dest\n",
        "    self.user_transMode = user_transMode\n",
        "\n",
        "  def KingsCross(self):\n",
        "    durations = [10,12,30,18]\n",
        "    time = durations[self.transport_types.index(self.user_transMode)]\n",
        "    return 'Time: ' + str(time)\n",
        "\n",
        "  def Westminster(self):\n",
        "    durations = [18,20,60,40]\n",
        "    time = durations[self.transport_types.index(self.user_transMode)]\n",
        "    return 'Time: ' + str(time)\n",
        "\n",
        "  def OxfordStreet(self):\n",
        "    durations = [15,18,55,38]\n",
        "    time = durations[self.transport_types.index(self.user_transMode)]\n",
        "    return 'Time: ' + str(time)\n",
        "\n",
        "  def Wembley(self):\n",
        "    durations = [35,50,120,75]\n",
        "    time = durations[self.transport_types.index(self.user_transMode)]\n",
        "    return 'Time: ' + str(time)\n",
        "\n",
        "while True:\n",
        "  user_dest = input('Destination (options - Kings Cross, Westminster, Oxford Street, Wembley): ')\n",
        "  if user_dest.lower() in ('kings cross','westminster','oxford street','wembley'):\n",
        "    break\n",
        "  else:\n",
        "    print('Invalid destination. Enter from list of destinations given. ')\n",
        "\n",
        "while True:\n",
        "  user_transMode = input('Transport Mode (options - car,train,walk,bike): ')\n",
        "  if user_transMode.lower() in ('car','train','walk','bike'):\n",
        "    break\n",
        "  else:\n",
        "    print('Invalid mode of transport. Try again. ')\n",
        "\n",
        "transport_types = ['car','train','walk','bike']\n",
        "locations = Locations(dests_dict, transport_types, user_dest.lower(), user_transMode.lower())\n",
        "\n",
        "if user_dest.lower() == 'kings cross':\n",
        "  print('Distance:',dests_dict.get('Kings Cross'))\n",
        "  print(locations.KingsCross())\n",
        "\n",
        "elif user_dest.lower() == 'westminster':\n",
        "  print('Distance:',dests_dict.get('Westminster'))\n",
        "  print(locations.Westminster())\n",
        "\n",
        "elif user_dest.lower() == 'oxford street':\n",
        "  print('Distance:',dests_dict.get('Oxford Street'))\n",
        "  print(locations.OxfordStreet())\n",
        "\n",
        "else:\n",
        "  print('Distance:',dests_dict.get('Wembley'))\n",
        "  print(locations.Wembley())\n",
        "\n",
        "#why does is there a missing argument syntax for Locations.KingsCross(), Locations.Westminster(), Locations.OxfordStreet(), Locations.Wembley()"
      ],
      "execution_count": 8,
      "outputs": [
        {
          "output_type": "stream",
          "name": "stdout",
          "text": [
            "Destination (options - Kings Cross, Westminster, Oxford Street, Wembley): Wembley\n",
            "Transport Mode (options - car,train,walk,bike): train\n",
            "Distance: 8\n",
            "Time: 50\n"
          ]
        }
      ]
    },
    {
      "cell_type": "code",
      "metadata": {
        "id": "ZRie7amB-KAU",
        "colab": {
          "base_uri": "https://localhost:8080/"
        },
        "outputId": "4182760e-4580-4f36-821c-2cdf92e37a9b"
      },
      "source": [
        "def add(n1,n2):\n",
        "  return n1 + n2\n",
        "\n",
        "add(3,4)"
      ],
      "execution_count": null,
      "outputs": [
        {
          "output_type": "execute_result",
          "data": {
            "text/plain": [
              "7"
            ]
          },
          "metadata": {},
          "execution_count": 16
        }
      ]
    },
    {
      "cell_type": "code",
      "metadata": {
        "id": "sZuyck4ugP8h"
      },
      "source": [],
      "execution_count": null,
      "outputs": []
    }
  ]
}