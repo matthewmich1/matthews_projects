{
  "nbformat": 4,
  "nbformat_minor": 0,
  "metadata": {
    "colab": {
      "provenance": [],
      "collapsed_sections": []
    },
    "kernelspec": {
      "name": "python3",
      "display_name": "Python 3"
    },
    "language_info": {
      "name": "python"
    }
  },
  "cells": [
    {
      "cell_type": "code",
      "execution_count": null,
      "metadata": {
        "id": "4VfEEAvlYsFH"
      },
      "outputs": [],
      "source": [
        "import random\n",
        "\n",
        "die1, die2 = random.randint(1,6), random.randint(1,6)\n",
        "\n",
        "def prob_even(n):\n",
        "  \n",
        "  all_even = 0.5 ** n\n",
        "  print('Probability of getting an even number every time is',all_even)\n",
        "\n",
        "#trials = int(input('Num of trials: '))\n",
        "\n",
        "balance = 0"
      ]
    },
    {
      "cell_type": "code",
      "source": [
        "def sum_dies(d1,d2,balance):\n",
        "  sum = d1 + d2\n",
        "  if sum >= 10:\n",
        "    balance += 100\n",
        "  elif sum <10 and sum >= 4:\n",
        "    balance += 50\n",
        "  else:\n",
        "    balance += 10\n",
        "  \n",
        "  return balance\n",
        "\n",
        "sum_dies(die1,die2,balance)"
      ],
      "metadata": {
        "colab": {
          "base_uri": "https://localhost:8080/"
        },
        "id": "5_ml1snaZUEe",
        "outputId": "a1b464ef-798c-4f2d-a4b8-b22bafaef8a4"
      },
      "execution_count": null,
      "outputs": [
        {
          "output_type": "execute_result",
          "data": {
            "text/plain": [
              "10"
            ]
          },
          "metadata": {},
          "execution_count": 27
        }
      ]
    },
    {
      "cell_type": "code",
      "source": [
        "import random\n",
        "\n",
        "# 2 3 4 5 6 7\n",
        "# 3 4 5 6 7 8\n",
        "# 4 5 6 7 8 9\n",
        "# 5 6 7 8 9 10\n",
        "# 6 7 8 9 10 11\n",
        "# 7 8 9 10 11 12\n",
        "l = []\n",
        "d1, d2 = random.randint(1,6), random.randint(1,6)\n",
        "sum = d1 + d2\n",
        "s = 2\n",
        "e = 8\n",
        "\n",
        "for j in range(6):\n",
        "  for i in range(s,e):\n",
        "    l.append(i)\n",
        "    print(i,end = ' ')\n",
        "  print('\\n')\n",
        "  s += 1\n",
        "  e += 1\n",
        "\n",
        "prob = l.count(sum)/len(l)\n",
        "print(prob)\n"
      ],
      "metadata": {
        "colab": {
          "base_uri": "https://localhost:8080/"
        },
        "id": "Lg9HmnU4duhl",
        "outputId": "0c39d753-c798-4047-c03e-f7991fe93ccc"
      },
      "execution_count": null,
      "outputs": [
        {
          "output_type": "stream",
          "name": "stdout",
          "text": [
            "2 3 4 5 6 7 \n",
            "\n",
            "3 4 5 6 7 8 \n",
            "\n",
            "4 5 6 7 8 9 \n",
            "\n",
            "5 6 7 8 9 10 \n",
            "\n",
            "6 7 8 9 10 11 \n",
            "\n",
            "7 8 9 10 11 12 \n",
            "\n",
            "0.1388888888888889\n"
          ]
        }
      ]
    },
    {
      "cell_type": "code",
      "source": [],
      "metadata": {
        "id": "LrLrsn3zdwu6",
        "colab": {
          "base_uri": "https://localhost:8080/"
        },
        "outputId": "1d17fbf7-4c34-4ba2-d0aa-572c9c5c888d"
      },
      "execution_count": null,
      "outputs": [
        {
          "output_type": "execute_result",
          "data": {
            "text/plain": [
              "5.0"
            ]
          },
          "metadata": {},
          "execution_count": 1
        }
      ]
    },
    {
      "cell_type": "code",
      "source": [
        "import math\n",
        "def quadratic(a,b,c):\n",
        "  discr = b**2 - 4*a*c\n",
        "  x1 = (b + math.sqrt(discr)) / (2*a)\n",
        "  x2 = (b - math.sqrt(discr)) / (2*a)\n",
        "\n",
        "  if discr == 0:\n",
        "    return x1\n",
        "  elif discr < 0:\n",
        "    return 'No solutions'\n",
        "  else:\n",
        "    return x1,x2"
      ],
      "metadata": {
        "id": "VNaoKohcIfEO"
      },
      "execution_count": null,
      "outputs": []
    },
    {
      "cell_type": "code",
      "source": [
        "quadratic(5,24,6)"
      ],
      "metadata": {
        "colab": {
          "base_uri": "https://localhost:8080/"
        },
        "id": "D04UKcsEKZ3Z",
        "outputId": "03adfec0-5408-41e9-81ab-c97ddc2430a1"
      },
      "execution_count": null,
      "outputs": [
        {
          "output_type": "execute_result",
          "data": {
            "text/plain": [
              "(4.535415650406263, 0.2645843495937378)"
            ]
          },
          "metadata": {},
          "execution_count": 12
        }
      ]
    },
    {
      "cell_type": "code",
      "source": [
        "sign = lambda x: 'positive' if x > 0 else ('negative' if x < 0 else 'zero')"
      ],
      "metadata": {
        "id": "P4IH9ZatMet1"
      },
      "execution_count": null,
      "outputs": []
    },
    {
      "cell_type": "code",
      "source": [
        "sign(-6)"
      ],
      "metadata": {
        "colab": {
          "base_uri": "https://localhost:8080/",
          "height": 35
        },
        "id": "MDOvwlswNAk4",
        "outputId": "6364a8d1-71f0-4ebf-c2bc-e1089a3c0d2c"
      },
      "execution_count": null,
      "outputs": [
        {
          "output_type": "execute_result",
          "data": {
            "application/vnd.google.colaboratory.intrinsic+json": {
              "type": "string"
            },
            "text/plain": [
              "'negative'"
            ]
          },
          "metadata": {},
          "execution_count": 18
        }
      ]
    },
    {
      "cell_type": "code",
      "source": [
        "### Tic Tac Toe###\n",
        "\n",
        "def gameboard(board):\n",
        "  print('  |   |  ')\n",
        "  print(board[0] + ' | ' + board[1] + ' | ' + board[2])\n",
        "  print('  |   |  ')\n",
        "  print('---------')\n",
        "  print('  |   |  ')\n",
        "  print(board[3] + ' | ' + board[4] + ' | ' + board[5])\n",
        "  print('  |   |  ')\n",
        "  print('---------')\n",
        "  print('  |   |  ')\n",
        "  print(board[6] + ' | ' + board[7] + ' | ' + board[8])\n",
        "  print('  |   |  ')\n",
        "\n",
        "gameboard([' ']*9)"
      ],
      "metadata": {
        "id": "JoAvIZozOi7g",
        "colab": {
          "base_uri": "https://localhost:8080/"
        },
        "outputId": "0f570ade-449f-4676-946b-e6bbfe8a7ec2"
      },
      "execution_count": null,
      "outputs": [
        {
          "output_type": "stream",
          "name": "stdout",
          "text": [
            "  |   |  \n",
            "  |   |  \n",
            "  |   |  \n",
            "---------\n",
            "  |   |  \n",
            "  |   |  \n",
            "  |   |  \n",
            "---------\n",
            "  |   |  \n",
            "  |   |  \n",
            "  |   |  \n"
          ]
        }
      ]
    },
    {
      "cell_type": "code",
      "source": [
        "import random\n",
        "\n",
        "def marker(player):\n",
        "  mark = random.choice(['X','O'])\n",
        "  print('Your sign is',mark,player)\n",
        "  return mark"
      ],
      "metadata": {
        "id": "zojInulmqn5O"
      },
      "execution_count": null,
      "outputs": []
    },
    {
      "cell_type": "code",
      "source": [
        "def player_turn(p1,p2):\n",
        "  if random.randint(0,1) == 0:\n",
        "    return p1\n",
        "  else:\n",
        "    return p2"
      ],
      "metadata": {
        "id": "kthwQ6cb8yhK"
      },
      "execution_count": null,
      "outputs": []
    },
    {
      "cell_type": "code",
      "source": [
        "def check_position(board,sqr):\n",
        "  return board[sqr-1] == ' '"
      ],
      "metadata": {
        "id": "I-_0OECXxXnC"
      },
      "execution_count": null,
      "outputs": []
    },
    {
      "cell_type": "code",
      "source": [
        "def place_marker(board,sqr,marker):\n",
        "  if check_position(board,sqr) == True:\n",
        "    board[sqr-1] = marker"
      ],
      "metadata": {
        "id": "PEcjiW76quIX"
      },
      "execution_count": null,
      "outputs": []
    },
    {
      "cell_type": "code",
      "source": [
        "def check_fullboard(board):\n",
        "  for i in range(9):\n",
        "    if board[i] == ' ':\n",
        "      return 'False'\n",
        "    else:\n",
        "      return 'True'"
      ],
      "metadata": {
        "id": "xdfUsiRUz89f"
      },
      "execution_count": null,
      "outputs": []
    },
    {
      "cell_type": "code",
      "source": [
        "def winner(board,marker):\n",
        "  return ((board[0] == marker and board[1] == marker and board[2] == marker) or #across top\n",
        "  (board[3] == marker and board[4] == marker and board[5] == marker) or #across middle\n",
        "  (board[6] == marker and board[7] == marker and board[8] == marker) or #across bottom\n",
        "  (board[0] == marker and board[4] == marker and board[8] == marker) or #diagonal\n",
        "  (board[2] == marker and board[4] == marker and board[6] == marker) or #diagonal\n",
        "  (board[0] == marker and board[3] == marker and board[6] == marker) or #down left\n",
        "  (board[1] == marker and board[4] == marker and board[7] == marker)) #down right"
      ],
      "metadata": {
        "id": "UCeJq2nezIjB"
      },
      "execution_count": null,
      "outputs": []
    },
    {
      "cell_type": "code",
      "source": [
        "def replay():\n",
        "  return input('Do you want to play again? ').lower().startswith('y')"
      ],
      "metadata": {
        "id": "BBUAzTrBzg2i"
      },
      "execution_count": null,
      "outputs": []
    },
    {
      "cell_type": "code",
      "source": [
        "from IPython.display import clear_output\n",
        "scoreboard = []\n",
        "\n",
        "while True:\n",
        "  \n",
        "  board = [' ']*9\n",
        "  gameboard(board)\n",
        "  player1, player2 = input('Enter name player1: '), input('Enter name player2: ')\n",
        "  p1Mark = marker(player1)\n",
        "  if p1Mark == 'X':\n",
        "    p2Mark = 'O'\n",
        "  else:\n",
        "    p2Mark = 'X'\n",
        "  turn = player_turn(player1,player2)\n",
        "  print(player1,'will go first.') if turn == player1 else print(player2,'will go first.')\n",
        "\n",
        "  while True:\n",
        "    \n",
        "    if turn == player1:\n",
        "      clear_output()\n",
        "      p1sqr = int(input(player1 + ' enter a square to place your marker(1-9)'))\n",
        "      while p1sqr < 1 or p1sqr > 9 or check_position(board,p1sqr) == False:\n",
        "        print('Invalid. Answer not in range or square is already has a marker.')\n",
        "        p1sqr = int(input(player1 + ' enter a square to place your marker(1-9)'))\n",
        "      place_marker(board,p1sqr,p1Mark)\n",
        "      gameboard(board)\n",
        "      if winner(board,p1Mark) == True:\n",
        "        print('Congratulations',player1,'you win!')\n",
        "        scoreboard.append(player1)\n",
        "        break\n",
        "      else:\n",
        "        if check_fullboard(board) == True:\n",
        "          print('This game is a draw.')\n",
        "        else:\n",
        "          turn = player2\n",
        "\n",
        "    else:\n",
        "      clear_output()\n",
        "      p2sqr = int(input(player2 + ' enter a square to place your marker(1-9)'))\n",
        "      while p2sqr < 1 or p2sqr > 9 or check_position(board,p2sqr) == False:\n",
        "        print('Invalid. Answer not in range or square is already has a marker.')\n",
        "        p2sqr = int(input(player2 + ' enter a square to place your marker(1-9)'))\n",
        "      place_marker(board,p2sqr,p2Mark)\n",
        "      gameboard(board)\n",
        "      if winner(board,p2Mark) == True:\n",
        "        print('Congratulations',player2,'you win!')\n",
        "        scoreboard.append(player2)\n",
        "        break\n",
        "      else:\n",
        "        if check_fullboard(board) == True:\n",
        "          print('This game is a draw.')\n",
        "        else:\n",
        "          turn = player1\n",
        "\n",
        "  if replay() == False:\n",
        "    break\n",
        "\n",
        "print('Thanks for playing. Here is the scoreboard:')\n",
        "for name in scoreboard:\n",
        "  print(name)\n"
      ],
      "metadata": {
        "id": "zg56nq7I5d7x",
        "colab": {
          "base_uri": "https://localhost:8080/"
        },
        "outputId": "d161f016-96e9-49e8-d52f-b08a221f1a20"
      },
      "execution_count": null,
      "outputs": [
        {
          "output_type": "stream",
          "name": "stdout",
          "text": [
            "  |   |  \n",
            "  |   |  \n",
            "  |   |  \n",
            "---------\n",
            "  |   |  \n",
            "  |   |  \n",
            "  |   |  \n",
            "---------\n",
            "  |   |  \n",
            "  |   |  \n",
            "  |   |  \n",
            "Enter name player1: Matthew\n",
            "Enter name player2: Nathaniel\n",
            "Your sign is O Matthew\n",
            "Nathaniel will go first.\n",
            "Nathaniel enter a square to place your marker(1-9)2\n",
            "  |   |  \n",
            "  | X |  \n",
            "  |   |  \n",
            "---------\n",
            "  |   |  \n",
            "  |   |  \n",
            "  |   |  \n",
            "---------\n",
            "  |   |  \n",
            "  |   |  \n",
            "  |   |  \n",
            "Matthew enter a square to place your marker(1-9)3\n",
            "  |   |  \n",
            "  | X | O\n",
            "  |   |  \n",
            "---------\n",
            "  |   |  \n",
            "  |   |  \n",
            "  |   |  \n",
            "---------\n",
            "  |   |  \n",
            "  |   |  \n",
            "  |   |  \n",
            "Nathaniel enter a square to place your marker(1-9)5\n",
            "  |   |  \n",
            "  | X | O\n",
            "  |   |  \n",
            "---------\n",
            "  |   |  \n",
            "  | X |  \n",
            "  |   |  \n",
            "---------\n",
            "  |   |  \n",
            "  |   |  \n",
            "  |   |  \n",
            "Matthew enter a square to place your marker(1-9)6\n",
            "  |   |  \n",
            "  | X | O\n",
            "  |   |  \n",
            "---------\n",
            "  |   |  \n",
            "  | X | O\n",
            "  |   |  \n",
            "---------\n",
            "  |   |  \n",
            "  |   |  \n",
            "  |   |  \n",
            "Nathaniel enter a square to place your marker(1-9)8\n",
            "  |   |  \n",
            "  | X | O\n",
            "  |   |  \n",
            "---------\n",
            "  |   |  \n",
            "  | X | O\n",
            "  |   |  \n",
            "---------\n",
            "  |   |  \n",
            "  | X |  \n",
            "  |   |  \n",
            "Congratulations Nathaniel you win!\n",
            "Do you want to play again? No\n",
            "Thanks for playing. Here is the scoreboard:\n",
            "['Nathaniel']\n"
          ]
        }
      ]
    },
    {
      "cell_type": "code",
      "source": [],
      "metadata": {
        "id": "E-_n55n5JJT2"
      },
      "execution_count": null,
      "outputs": []
    }
  ]
}